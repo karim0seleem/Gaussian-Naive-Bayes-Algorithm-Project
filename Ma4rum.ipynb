{
 "cells": [
  {
   "cell_type": "markdown",
   "metadata": {},
   "source": [
    "# Importing Libraries"
   ]
  },
  {
   "cell_type": "code",
   "execution_count": 30,
   "metadata": {},
   "outputs": [],
   "source": [
    "from PAS_Learn.Classifier import GaussianNaiveBayes\n",
    "from PAS_Learn.model_selection import My_train_test_split\n",
    "from PAS_Learn.metrics import Evaluate\n",
    "\n",
    "\n",
    "import pandas as pd\n"
   ]
  },
  {
   "cell_type": "markdown",
   "metadata": {},
   "source": [
    "# Reading Data"
   ]
  },
  {
   "cell_type": "code",
   "execution_count": 31,
   "metadata": {},
   "outputs": [],
   "source": [
    "df = pd.read_csv('mushroom_cleaned.csv')\n"
   ]
  },
  {
   "cell_type": "markdown",
   "metadata": {},
   "source": [
    "# Splitting to train and test\n"
   ]
  },
  {
   "cell_type": "code",
   "execution_count": 32,
   "metadata": {},
   "outputs": [],
   "source": [
    "# Splitting to Features and Label\n",
    "X, y = df.drop('class', axis=1), df['class']\n",
    "# Splitting to train and test datasets\n",
    "X_train, X_test, y_train, y_test = My_train_test_split(X, y, test_size=0.2, random_state=0)"
   ]
  },
  {
   "cell_type": "markdown",
   "metadata": {},
   "source": [
    "# Training the model"
   ]
  },
  {
   "cell_type": "code",
   "execution_count": 34,
   "metadata": {},
   "outputs": [],
   "source": [
    "AI_Model = GaussianNaiveBayes()\n",
    "AI_Model.fit(X_train, y_train)\n"
   ]
  },
  {
   "cell_type": "markdown",
   "metadata": {},
   "source": [
    "# Final Evaluation"
   ]
  },
  {
   "cell_type": "code",
   "execution_count": 35,
   "metadata": {},
   "outputs": [
    {
     "name": "stdout",
     "output_type": "stream",
     "text": [
      "Accuracy: 64.06%\n",
      "Precision: 65.73%\n",
      "Recall: 72.05%\n",
      "F1 Score: 68.74%\n",
      "Confusion Matrix:\n",
      "+-----+-------+------+\n",
      "|     |   Yes |   No |\n",
      "+=====+=======+======+\n",
      "| Yes |  4271 | 2227 |\n",
      "+-----+-------+------+\n",
      "| No  |  1657 | 2652 |\n",
      "+-----+-------+------+\n"
     ]
    }
   ],
   "source": [
    "y_pred = AI_Model.predict(X_test)\n",
    "Evaluate(y_test, y_pred, ['Yes', 'No'])"
   ]
  },
  {
   "cell_type": "markdown",
   "metadata": {},
   "source": [
    "Accuracy: 64.06%\n",
    "Precision: 65.73%\n",
    "Recall: 72.05%\n",
    "F1 Score: 68.74%\n",
    "Confusion Matrix:\n",
    "+-----+-------+------+\n",
    "|     |   Yes |   No |\n",
    "+=====+=======+======+\n",
    "| Yes |  4271 | 2227 |\n",
    "+-----+-------+------+\n",
    "| No  |  1657 | 2652 |\n",
    "+-----+-------+------+"
   ]
  },
  {
   "cell_type": "code",
   "execution_count": null,
   "metadata": {},
   "outputs": [],
   "source": []
  }
 ],
 "metadata": {
  "kernelspec": {
   "display_name": "AI_env",
   "language": "python",
   "name": "python3"
  },
  "language_info": {
   "codemirror_mode": {
    "name": "ipython",
    "version": 3
   },
   "file_extension": ".py",
   "mimetype": "text/x-python",
   "name": "python",
   "nbconvert_exporter": "python",
   "pygments_lexer": "ipython3",
   "version": "3.10.13"
  }
 },
 "nbformat": 4,
 "nbformat_minor": 2
}
